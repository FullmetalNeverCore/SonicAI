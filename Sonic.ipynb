{
  "nbformat": 4,
  "nbformat_minor": 0,
  "metadata": {
    "colab": {
      "name": "Копия блокнота \"Untitled0.ipynb\"",
      "provenance": [],
      "collapsed_sections": []
    },
    "kernelspec": {
      "name": "python3",
      "display_name": "Python 3"
    },
    "language_info": {
      "name": "python"
    }
  },
  "cells": [
    {
      "cell_type": "code",
      "execution_count": null,
      "metadata": {
        "id": "zRrEQW4xczls",
        "colab": {
          "base_uri": "https://localhost:8080/"
        },
        "outputId": "a4e2cbb8-ad8e-46fc-e31d-551eb61b4b0b"
      },
      "outputs": [
        {
          "output_type": "stream",
          "name": "stdout",
          "text": [
            "Mounted at ./sonic\n"
          ]
        }
      ],
      "source": [
        "from google.colab import drive \n",
        "drive.mount('./sonic')"
      ]
    },
    {
      "cell_type": "code",
      "source": [
        "!pip install gym-retro"
      ],
      "metadata": {
        "colab": {
          "base_uri": "https://localhost:8080/"
        },
        "id": "ve9BAqQx2onO",
        "outputId": "2a470896-6419-4ae7-c6a7-43148237bab6"
      },
      "execution_count": null,
      "outputs": [
        {
          "output_type": "stream",
          "name": "stdout",
          "text": [
            "Collecting gym-retro\n",
            "  Downloading gym_retro-0.8.0-cp37-cp37m-manylinux1_x86_64.whl (162.0 MB)\n",
            "\u001b[K     |████████████████████████████████| 162.0 MB 24 kB/s \n",
            "\u001b[?25hRequirement already satisfied: pyglet==1.*,>=1.3.2 in /usr/local/lib/python3.7/dist-packages (from gym-retro) (1.5.0)\n",
            "Requirement already satisfied: gym in /usr/local/lib/python3.7/dist-packages (from gym-retro) (0.17.3)\n",
            "Requirement already satisfied: future in /usr/local/lib/python3.7/dist-packages (from pyglet==1.*,>=1.3.2->gym-retro) (0.16.0)\n",
            "Requirement already satisfied: numpy>=1.10.4 in /usr/local/lib/python3.7/dist-packages (from gym->gym-retro) (1.19.5)\n",
            "Requirement already satisfied: scipy in /usr/local/lib/python3.7/dist-packages (from gym->gym-retro) (1.4.1)\n",
            "Requirement already satisfied: cloudpickle<1.7.0,>=1.2.0 in /usr/local/lib/python3.7/dist-packages (from gym->gym-retro) (1.3.0)\n",
            "Installing collected packages: gym-retro\n",
            "Successfully installed gym-retro-0.8.0\n"
          ]
        }
      ]
    },
    {
      "cell_type": "code",
      "source": [
        "!pip install gym-retro"
      ],
      "metadata": {
        "colab": {
          "base_uri": "https://localhost:8080/"
        },
        "id": "GVx5PY-X23ns",
        "outputId": "9a1f94ec-0834-495c-8623-e59cb403e826"
      },
      "execution_count": null,
      "outputs": [
        {
          "output_type": "stream",
          "name": "stdout",
          "text": [
            "Collecting gym-retro\n",
            "  Downloading gym_retro-0.8.0-cp37-cp37m-manylinux1_x86_64.whl (162.0 MB)\n",
            "\u001b[K     |████████████████████████████████| 162.0 MB 29 kB/s \n",
            "\u001b[?25hRequirement already satisfied: gym in /usr/local/lib/python3.7/dist-packages (from gym-retro) (0.17.3)\n",
            "Requirement already satisfied: pyglet==1.*,>=1.3.2 in /usr/local/lib/python3.7/dist-packages (from gym-retro) (1.5.0)\n",
            "Requirement already satisfied: future in /usr/local/lib/python3.7/dist-packages (from pyglet==1.*,>=1.3.2->gym-retro) (0.16.0)\n",
            "Requirement already satisfied: numpy>=1.10.4 in /usr/local/lib/python3.7/dist-packages (from gym->gym-retro) (1.19.5)\n",
            "Requirement already satisfied: scipy in /usr/local/lib/python3.7/dist-packages (from gym->gym-retro) (1.4.1)\n",
            "Requirement already satisfied: cloudpickle<1.7.0,>=1.2.0 in /usr/local/lib/python3.7/dist-packages (from gym->gym-retro) (1.3.0)\n",
            "Installing collected packages: gym-retro\n",
            "Successfully installed gym-retro-0.8.0\n"
          ]
        }
      ]
    },
    {
      "cell_type": "code",
      "source": [
        "!python -m retro.import \"/content/drive/MyDrive/sonic\""
      ],
      "metadata": {
        "colab": {
          "base_uri": "https://localhost:8080/"
        },
        "id": "GeFYssRs4oBS",
        "outputId": "67034bc8-e520-4cab-d957-a10a3fb18965"
      },
      "execution_count": null,
      "outputs": [
        {
          "output_type": "stream",
          "name": "stdout",
          "text": [
            "Importing SonicTheHedgehog2-Genesis\n",
            "Imported 1 games\n"
          ]
        }
      ]
    },
    {
      "cell_type": "code",
      "source": [
        "import retro\n",
        "from stable_baselines.common.policies import MlpPolicy, MlpLstmPolicy, MlpLnLstmPolicy, CnnLnLstmPolicy, CnnPolicy, CnnLstmPolicy\n",
        "from stable_baselines.common.vec_env import SubprocVecEnv, DummyVecEnv\n",
        "from stable_baselines import PPO2, A2C"
      ],
      "metadata": {
        "colab": {
          "base_uri": "https://localhost:8080/"
        },
        "id": "OCnWt9Bp-MVK",
        "outputId": "e75aeeba-1b2b-4abc-ecbf-c0c03d26e89b"
      },
      "execution_count": null,
      "outputs": [
        {
          "output_type": "stream",
          "name": "stderr",
          "text": [
            "/usr/local/lib/python3.7/dist-packages/tensorflow/python/framework/dtypes.py:526: FutureWarning: Passing (type, 1) or '1type' as a synonym of type is deprecated; in a future version of numpy, it will be understood as (type, (1,)) / '(1,)type'.\n",
            "  _np_qint8 = np.dtype([(\"qint8\", np.int8, 1)])\n",
            "/usr/local/lib/python3.7/dist-packages/tensorflow/python/framework/dtypes.py:527: FutureWarning: Passing (type, 1) or '1type' as a synonym of type is deprecated; in a future version of numpy, it will be understood as (type, (1,)) / '(1,)type'.\n",
            "  _np_quint8 = np.dtype([(\"quint8\", np.uint8, 1)])\n",
            "/usr/local/lib/python3.7/dist-packages/tensorflow/python/framework/dtypes.py:528: FutureWarning: Passing (type, 1) or '1type' as a synonym of type is deprecated; in a future version of numpy, it will be understood as (type, (1,)) / '(1,)type'.\n",
            "  _np_qint16 = np.dtype([(\"qint16\", np.int16, 1)])\n",
            "/usr/local/lib/python3.7/dist-packages/tensorflow/python/framework/dtypes.py:529: FutureWarning: Passing (type, 1) or '1type' as a synonym of type is deprecated; in a future version of numpy, it will be understood as (type, (1,)) / '(1,)type'.\n",
            "  _np_quint16 = np.dtype([(\"quint16\", np.uint16, 1)])\n",
            "/usr/local/lib/python3.7/dist-packages/tensorflow/python/framework/dtypes.py:530: FutureWarning: Passing (type, 1) or '1type' as a synonym of type is deprecated; in a future version of numpy, it will be understood as (type, (1,)) / '(1,)type'.\n",
            "  _np_qint32 = np.dtype([(\"qint32\", np.int32, 1)])\n",
            "/usr/local/lib/python3.7/dist-packages/tensorflow/python/framework/dtypes.py:535: FutureWarning: Passing (type, 1) or '1type' as a synonym of type is deprecated; in a future version of numpy, it will be understood as (type, (1,)) / '(1,)type'.\n",
            "  np_resource = np.dtype([(\"resource\", np.ubyte, 1)])\n",
            "/usr/local/lib/python3.7/dist-packages/stable_baselines/__init__.py:33: UserWarning: stable-baselines is in maintenance mode, please use [Stable-Baselines3 (SB3)](https://github.com/DLR-RM/stable-baselines3) for an up-to-date version. You can find a [migration guide](https://stable-baselines3.readthedocs.io/en/master/guide/migration.html) in SB3 documentation.\n",
            "  \"stable-baselines is in maintenance mode, please use [Stable-Baselines3 (SB3)](https://github.com/DLR-RM/stable-baselines3) for an up-to-date version. You can find a [migration guide](https://stable-baselines3.readthedocs.io/en/master/guide/migration.html) in SB3 documentation.\"\n"
          ]
        }
      ]
    },
    {
      "cell_type": "code",
      "source": [
        "env = DummyVecEnv([lambda: retro.make('SonicTheHedgehog2-Genesis',state='EmeraldHillZone.Act1',record='/content/drive/MyDrive/sonic')])"
      ],
      "metadata": {
        "id": "y9cQbg8l-6qc"
      },
      "execution_count": null,
      "outputs": []
    },
    {
      "cell_type": "code",
      "source": [
        "mn = 'sonicppo'\n",
        "model = PPO2(CnnPolicy,env,n_steps=2048,verbose=1)\n",
        "model.learn(total_timesteps=10000)\n",
        "model.save('/content/drive/MyDrive/sonic'+mn)"
      ],
      "metadata": {
        "colab": {
          "base_uri": "https://localhost:8080/"
        },
        "id": "oi7Rb8XIICaK",
        "outputId": "aaa1f963-0d80-4aa7-fcd6-516b510e2fe7"
      },
      "execution_count": null,
      "outputs": [
        {
          "output_type": "stream",
          "name": "stdout",
          "text": [
            "---------------------------------------\n",
            "| approxkl           | 0.0009812749   |\n",
            "| clipfrac           | 0.0            |\n",
            "| explained_variance | -0.752         |\n",
            "| fps                | 6              |\n",
            "| n_updates          | 1              |\n",
            "| policy_entropy     | 8.316769       |\n",
            "| policy_loss        | -0.00018876736 |\n",
            "| serial_timesteps   | 2048           |\n",
            "| time_elapsed       | 2.34e-05       |\n",
            "| total_timesteps    | 2048           |\n",
            "| value_loss         | 3.0297532      |\n",
            "---------------------------------------\n",
            "--------------------------------------\n",
            "| approxkl           | 0.002173921   |\n",
            "| clipfrac           | 0.020385742   |\n",
            "| explained_variance | 0.47          |\n",
            "| fps                | 7             |\n",
            "| n_updates          | 2             |\n",
            "| policy_entropy     | 8.313214      |\n",
            "| policy_loss        | -0.0035296325 |\n",
            "| serial_timesteps   | 4096          |\n",
            "| time_elapsed       | 299           |\n",
            "| total_timesteps    | 4096          |\n",
            "| value_loss         | 0.0010910204  |\n",
            "--------------------------------------\n",
            "-------------------------------------\n",
            "| approxkl           | 0.0049669663 |\n",
            "| clipfrac           | 0.06616211   |\n",
            "| explained_variance | -4.22        |\n",
            "| fps                | 7            |\n",
            "| n_updates          | 3            |\n",
            "| policy_entropy     | 8.297066     |\n",
            "| policy_loss        | -0.004161977 |\n",
            "| serial_timesteps   | 6144         |\n",
            "| time_elapsed       | 578          |\n",
            "| total_timesteps    | 6144         |\n",
            "| value_loss         | 0.0012721572 |\n",
            "-------------------------------------\n",
            "--------------------------------------\n",
            "| approxkl           | 0.00552579    |\n",
            "| clipfrac           | 0.0793457     |\n",
            "| explained_variance | 0.516         |\n",
            "| fps                | 7             |\n",
            "| n_updates          | 4             |\n",
            "| policy_entropy     | 8.298801      |\n",
            "| policy_loss        | -0.0044249757 |\n",
            "| serial_timesteps   | 8192          |\n",
            "| time_elapsed       | 858           |\n",
            "| total_timesteps    | 8192          |\n",
            "| value_loss         | 0.00066412205 |\n",
            "--------------------------------------\n"
          ]
        }
      ]
    },
    {
      "cell_type": "code",
      "source": [
        "ob = env.reset()\n",
        "done = False\n",
        "rew = 0 \n",
        "while not done:\n",
        "  actions,_ = model.predict(ob) \n",
        "  ob,reew,done,info = env.step(actions)\n",
        "  rew += reew\n",
        "print(reew)"
      ],
      "metadata": {
        "colab": {
          "base_uri": "https://localhost:8080/"
        },
        "id": "p_I7A3NgUqdL",
        "outputId": "7ba5f6fa-a4f6-49e1-a4fb-9c6420d632fd"
      },
      "execution_count": null,
      "outputs": [
        {
          "output_type": "stream",
          "name": "stdout",
          "text": [
            "[0.]\n"
          ]
        }
      ]
    },
    {
      "cell_type": "code",
      "source": [
        "!python /usr/local/lib/python3.7/dist-packages/retro/scripts/playback_movie.py \"/content/drive/MyDrive/sonic/SonicTheHedgehog2-Genesis-EmeraldHillZone.Act1-000004.bk2\""
      ],
      "metadata": {
        "colab": {
          "base_uri": "https://localhost:8080/"
        },
        "id": "mCVCXXYlWUjq",
        "outputId": "35597116-4368-46ec-fb95-5cd21d8081ce"
      },
      "execution_count": null,
      "outputs": [
        {
          "output_type": "stream",
          "name": "stdout",
          "text": [
            "ffmpeg version 3.4.8-0ubuntu0.2 Copyright (c) 2000-2020 the FFmpeg developers\n",
            "  built with gcc 7 (Ubuntu 7.5.0-3ubuntu1~18.04)\n",
            "  configuration: --prefix=/usr --extra-version=0ubuntu0.2 --toolchain=hardened --libdir=/usr/lib/x86_64-linux-gnu --incdir=/usr/include/x86_64-linux-gnu --enable-gpl --disable-stripping --enable-avresample --enable-avisynth --enable-gnutls --enable-ladspa --enable-libass --enable-libbluray --enable-libbs2b --enable-libcaca --enable-libcdio --enable-libflite --enable-libfontconfig --enable-libfreetype --enable-libfribidi --enable-libgme --enable-libgsm --enable-libmp3lame --enable-libmysofa --enable-libopenjpeg --enable-libopenmpt --enable-libopus --enable-libpulse --enable-librubberband --enable-librsvg --enable-libshine --enable-libsnappy --enable-libsoxr --enable-libspeex --enable-libssh --enable-libtheora --enable-libtwolame --enable-libvorbis --enable-libvpx --enable-libwavpack --enable-libwebp --enable-libx265 --enable-libxml2 --enable-libxvid --enable-libzmq --enable-libzvbi --enable-omx --enable-openal --enable-opengl --enable-sdl2 --enable-libdc1394 --enable-libdrm --enable-libiec61883 --enable-chromaprint --enable-frei0r --enable-libopencv --enable-libx264 --enable-shared\n",
            "  libavutil      55. 78.100 / 55. 78.100\n",
            "  libavcodec     57.107.100 / 57.107.100\n",
            "  libavformat    57. 83.100 / 57. 83.100\n",
            "  libavdevice    57. 10.100 / 57. 10.100\n",
            "  libavfilter     6.107.100 /  6.107.100\n",
            "  libavresample   3.  7.  0 /  3.  7.  0\n",
            "  libswscale      4.  8.100 /  4.  8.100\n",
            "  libswresample   2.  9.100 /  2.  9.100\n",
            "  libpostproc    54.  7.100 / 54.  7.100\n",
            "Input #0, rawvideo, from 'tcp://127.0.0.1:49263?listen':\n",
            "  Duration: N/A, start: 0.000000, bitrate: 103086 kb/s\n",
            "    Stream #0:0: Video: rawvideo (RGB[24] / 0x18424752), rgb24, 320x224, 103086 kb/s, 59.92 tbr, 59.92 tbn, 59.92 tbc\n",
            "\u001b[0;33mGuessed Channel Layout for Input Stream #1.0 : stereo\n",
            "\u001b[0mInput #1, s16le, from 'tcp://127.0.0.1:56423?listen':\n",
            "  Duration: N/A, bitrate: 1411 kb/s\n",
            "    Stream #1:0: Audio: pcm_s16le, 44100 Hz, stereo, s16, 1411 kb/s\n",
            "Stream mapping:\n",
            "  Stream #0:0 -> #0:0 (rawvideo (native) -> h264 (libx264))\n",
            "  Stream #1:0 -> #0:1 (pcm_s16le (native) -> aac (native))\n",
            "Press [q] to stop, [?] for help\n",
            "\u001b[1;36m[libx264 @ 0x555d0c526800] \u001b[0musing cpu capabilities: MMX2 SSE2Fast SSSE3 SSE4.2 AVX FMA3 BMI2 AVX2\n",
            "\u001b[1;36m[libx264 @ 0x555d0c526800] \u001b[0mprofile High, level 2.1\n",
            "\u001b[1;36m[libx264 @ 0x555d0c526800] \u001b[0m264 - core 152 r2854 e9a5903 - H.264/MPEG-4 AVC codec - Copyleft 2003-2017 - http://www.videolan.org/x264.html - options: cabac=1 ref=5 deblock=1:0:0 analyse=0x3:0x113 me=hex subme=8 psy=1 psy_rd=1.00:0.00 mixed_ref=1 me_range=16 chroma_me=1 trellis=2 8x8dct=1 cqm=0 deadzone=21,11 fast_pskip=1 chroma_qp_offset=-2 threads=3 lookahead_threads=1 sliced_threads=0 nr=0 decimate=1 interlaced=0 bluray_compat=0 constrained_intra=0 bframes=3 b_pyramid=2 b_adapt=1 b_bias=0 direct=3 weightb=1 open_gop=0 weightp=2 keyint=250 keyint_min=25 scenecut=40 intra_refresh=0 rc_lookahead=50 rc=crf mbtree=1 crf=17.0 qcomp=0.60 qpmin=0 qpmax=69 qpstep=4 ip_ratio=1.40 aq=1:1.00\n",
            "Output #0, mp4, to '/content/drive/MyDrive/sonic/SonicTheHedgehog2-Genesis-EmeraldHillZone.Act1-000004.mp4':\n",
            "  Metadata:\n",
            "    encoder         : Lavf57.83.100\n",
            "    Stream #0:0: Video: h264 (libx264) (avc1 / 0x31637661), yuv420p(progressive), 320x224, q=-1--1, 59.92 fps, 152024 tbn, 59.92 tbc\n",
            "    Metadata:\n",
            "      encoder         : Lavc57.107.100 libx264\n",
            "    Side data:\n",
            "      cpb: bitrate max/min/avg: 0/0/0 buffer size: 0 vbv_delay: -1\n",
            "    Stream #0:1: Audio: aac (LC) (mp4a / 0x6134706D), 44100 Hz, stereo, fltp, 128 kb/s\n",
            "    Metadata:\n",
            "      encoder         : Lavc57.107.100 aac\n",
            "\u001b[0;35m[s16le @ 0x555d0c506600] \u001b[0m\u001b[0;33mThread message queue blocking; consider raising the thread_queue_size option (current value: 60)\n",
            "frame=92762 fps=146 q=-1.0 Lsize=  173268kB time=00:25:48.02 bitrate= 916.9kbits/s speed=2.43x    \n",
            "video:146205kB audio:24649kB subtitle:0kB other streams:0kB global headers:0kB muxing overhead: 1.412811%\n",
            "\u001b[1;36m[libx264 @ 0x555d0c526800] \u001b[0mframe I:372   Avg QP:15.88  size: 30241\n",
            "\u001b[1;36m[libx264 @ 0x555d0c526800] \u001b[0mframe P:35792 Avg QP:19.61  size:  2958\n",
            "\u001b[1;36m[libx264 @ 0x555d0c526800] \u001b[0mframe B:56598 Avg QP:26.59  size:   576\n",
            "\u001b[1;36m[libx264 @ 0x555d0c526800] \u001b[0mconsecutive B-frames: 13.3% 12.4% 11.3% 63.1%\n",
            "\u001b[1;36m[libx264 @ 0x555d0c526800] \u001b[0mmb I  I16..4: 10.1%  7.7% 82.2%\n",
            "\u001b[1;36m[libx264 @ 0x555d0c526800] \u001b[0mmb P  I16..4:  0.6%  0.3%  1.2%  P16..4: 25.6%  7.1%  5.5%  0.0%  0.0%    skip:59.8%\n",
            "\u001b[1;36m[libx264 @ 0x555d0c526800] \u001b[0mmb B  I16..4:  0.1%  0.1%  0.1%  B16..8: 11.4%  2.5%  1.6%  direct: 1.4%  skip:82.8%  L0:47.7% L1:45.8% BI: 6.5%\n",
            "\u001b[1;36m[libx264 @ 0x555d0c526800] \u001b[0m8x8 transform intra:16.9% inter:3.3%\n",
            "\u001b[1;36m[libx264 @ 0x555d0c526800] \u001b[0mdirect mvs  spatial:100.0% temporal:0.0%\n",
            "\u001b[1;36m[libx264 @ 0x555d0c526800] \u001b[0mcoded y,uvDC,uvAC intra: 52.6% 76.5% 73.5% inter: 5.4% 13.5% 11.9%\n",
            "\u001b[1;36m[libx264 @ 0x555d0c526800] \u001b[0mi16 v,h,dc,p: 51% 24% 25%  0%\n",
            "\u001b[1;36m[libx264 @ 0x555d0c526800] \u001b[0mi8 v,h,dc,ddl,ddr,vr,hd,vl,hu: 10%  9% 77%  0%  0%  0%  0%  1%  2%\n",
            "\u001b[1;36m[libx264 @ 0x555d0c526800] \u001b[0mi4 v,h,dc,ddl,ddr,vr,hd,vl,hu: 34% 12% 19%  5%  5%  6%  5%  6%  8%\n",
            "\u001b[1;36m[libx264 @ 0x555d0c526800] \u001b[0mi8c dc,h,v,p: 33% 33% 26%  8%\n",
            "\u001b[1;36m[libx264 @ 0x555d0c526800] \u001b[0mWeighted P-Frames: Y:0.1% UV:0.1%\n",
            "\u001b[1;36m[libx264 @ 0x555d0c526800] \u001b[0mref P L0: 56.1%  2.5% 22.7%  9.7%  7.0%  2.0%  0.0%\n",
            "\u001b[1;36m[libx264 @ 0x555d0c526800] \u001b[0mref B L0: 81.9% 11.3%  5.3%  1.6%\n",
            "\u001b[1;36m[libx264 @ 0x555d0c526800] \u001b[0mref B L1: 96.6%  3.4%\n",
            "\u001b[1;36m[libx264 @ 0x555d0c526800] \u001b[0mkb/s:773.70\n",
            "\u001b[1;36m[aac @ 0x555d0c527700] \u001b[0mQavg: 799.255\n"
          ]
        }
      ]
    }
  ]
}